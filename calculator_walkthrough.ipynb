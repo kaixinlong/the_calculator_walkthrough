{
  "nbformat": 4,
  "nbformat_minor": 0,
  "metadata": {
    "colab": {
      "name": "calculator_walkthrough.ipynb",
      "provenance": [],
      "authorship_tag": "ABX9TyM9fkANRlQLH9lM6KdYSXK9",
      "include_colab_link": true
    },
    "kernelspec": {
      "name": "python3",
      "display_name": "Python 3"
    },
    "language_info": {
      "name": "python"
    }
  },
  "cells": [
    {
      "cell_type": "markdown",
      "metadata": {
        "id": "view-in-github",
        "colab_type": "text"
      },
      "source": [
        "<a href=\"https://colab.research.google.com/github/michael-borck/the_calculator_walkthrough/blob/main/calculator_walkthrough.ipynb\" target=\"_parent\"><img src=\"https://colab.research.google.com/assets/colab-badge.svg\" alt=\"Open In Colab\"/></a>"
      ]
    },
    {
      "cell_type": "markdown",
      "source": [
        "# The Calculator Walkthrough\n",
        "\n",
        "This notebook is an exercise in programming to help hone your skills through practice and repetition. This notebook is a complete walkthrough with notes and explanations. It can be used as a reference, a study guide and provide one possible answer that you can use to compare with your attempt. This notebook is too long to be a [CodeKatas](http://codekata.com/) but aspires to similar principles. \n",
        "\n",
        "## CodeKata Principles\n",
        "\n",
        "With CodeKatas, you are trying to solve a problem and follow the best practices of the programming language.   There are no right or wrong answers. The benefit comes from the process, not from the result. See [Awesome Katas] for a curated list of CodeKatas see [Awesome Katas](https://github.com/gamontal/awesome-katas). For Python CodeKatas see [here](https://github.com/clair3st/code-katas).\n",
        "\n",
        "## What are *our* Best Practices\n",
        "\n",
        "Here are the best practices we have been applying throughout the course.\n",
        "\n",
        "1. Use a code repository (*GitHub, small frequent commits*)\n",
        "2. Follow style guidelines (*PEP8*)\n",
        "3. Correct broken code immediately (*exception handling, input validation, testing*)\n",
        "4. Use the PyPI instead of doing it yourself (*import module*)\n",
        "5. Use the Right Data Types and Structures (*int, float, list, etc. *)\n",
        "6. Write Readable Code (*meaningful names and comments*)\n",
        "7. Create readable documentation (*Docstrings*)\n",
        "8. Use Virtual Environments (*Google VM instance, Binder*)\n",
        "9. Avoid anti-patterns (*be specific imports, exceptions etc. *)\n",
        "10. Follow *Zen of Python* (try *import this*)\n",
        "\n",
        "## How to use this notebook\n",
        "\n",
        "You should copy the notebook, delete all the cells except for *The Challenge - Simple Calculator* and then attempt to solve the problem by applying the best practices above."
      ],
      "metadata": {
        "id": "MvTMTZ3wmFTr"
      }
    },
    {
      "cell_type": "markdown",
      "source": [
        "## The Challenge - Simple Calculator\n",
        "\n",
        "Write a program to prompt the user to select a mathematical operation and input two numbers. The program will then operate on the two numbers and output the result. The user will be able to continue performing operations on numbers or exit the program. The arithmetic operations include: \n",
        "* addition, \n",
        "* subtraction, \n",
        "* multiplication, and \n",
        "* division. \n",
        "\n",
        "Let's review the *Zen of Python*.  Run the following code cell"
      ],
      "metadata": {
        "id": "M79wKJcEvqEN"
      }
    },
    {
      "cell_type": "code",
      "execution_count": null,
      "metadata": {
        "id": "13KvbCwKmDvQ"
      },
      "outputs": [],
      "source": [
        "import this"
      ]
    },
    {
      "cell_type": "markdown",
      "source": [
        "# Step 0 - Create code repository\n",
        "\n",
        "All projects need a project folder. We will use the code repository to store the project. Go to GitHub, create a new repository with a meaningful name, like calculator, and add a README. Adding a readme file will initialise the repository. Initialising is *critical* and will make it easy to add files later.\n",
        "\n",
        "This notebook assumes we use Google Colab as the Integrated Development Environment (IDE). For our workflow and easy integration with the IDE, tick the box \"Include a link to Colaboratory\".\n",
        "\n",
        "This notebook will have small and frequent commits (Best Practice #1). You can look at the history of the notebook to view the commits.\n",
        "\n",
        "Clear all cell outputs and save this notebook. It is essential to clear cell outputs before saving. Otherwise, this can store a lot of unnecessary changes in the GitHub repository.  \n"
      ],
      "metadata": {
        "id": "agykSnZAgWYk"
      }
    },
    {
      "cell_type": "markdown",
      "source": [
        "# Step 1: State the problem clearly\n",
        "\n",
        "We are following 5 step methodology:\n",
        "1. State the problem clearly\n",
        "2. Describe the input and output information\n",
        "3. Work the problem by hand\n",
        "4. Develop an algorithm (and convert to python) \n",
        "5. Test solution with a variety of data\n",
        "\n",
        "For all but the simplest problems it is never as simple as do Step 1, then Step 2 etc.  For any problem you will do Step 1 as good as you can.  But sometimes in a later step you develop a deeper understanding of the problem and may require you to revist any step as necessary.\n",
        "\n",
        "## The Approach\n",
        "\n",
        "A calculator is a portable electronic device used to perform calculations. We have probably all used a calculator.  Our program is to perform basic calculations on user input. The program will handle user input, math operators, variables, conditional statements, functions, and output operations while building the program.\n",
        "\n",
        "* The user can choose the desired operation from a simple menu\n",
        "* The user can input two numbers\n",
        "* The program will use branching to select the particular operation to apply to the input numbers\n",
        "* The program will create functions for add(), subtract(), multiply() and divide() function for evaluation the respective operation in the calculator.\n",
        "* The program will ask if you want to do another caclaultion or exit.\n",
        "\n",
        "*Note: We haven't learned about Object Oriented programming so this solution will use a procedural approach*\n",
        "\n",
        "Clear all cell outputs and commit this notebook. Dont forget to include a commit message.\n"
      ],
      "metadata": {
        "id": "RtoKVlMiuQvj"
      }
    },
    {
      "cell_type": "code",
      "source": [
        ""
      ],
      "metadata": {
        "id": "WT6Y3d7yz8jk"
      },
      "execution_count": null,
      "outputs": []
    }
  ]
}