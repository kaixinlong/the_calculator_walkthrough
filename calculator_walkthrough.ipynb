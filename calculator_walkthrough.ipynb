{
  "nbformat": 4,
  "nbformat_minor": 0,
  "metadata": {
    "colab": {
      "name": "calculator_walkthrough.ipynb",
      "provenance": [],
      "authorship_tag": "ABX9TyM2Lte0mv2BHjy+557NEtE0",
      "include_colab_link": true
    },
    "kernelspec": {
      "name": "python3",
      "display_name": "Python 3"
    },
    "language_info": {
      "name": "python"
    }
  },
  "cells": [
    {
      "cell_type": "markdown",
      "metadata": {
        "id": "view-in-github",
        "colab_type": "text"
      },
      "source": [
        "<a href=\"https://colab.research.google.com/github/michael-borck/the_calculator_walkthrough/blob/main/calculator_walkthrough.ipynb\" target=\"_parent\"><img src=\"https://colab.research.google.com/assets/colab-badge.svg\" alt=\"Open In Colab\"/></a>"
      ]
    },
    {
      "cell_type": "markdown",
      "source": [
        "# The Calculator Walkthrough\n",
        "\n",
        "This notebook is an exercise in programming to help hone your skills through practice and repetition. This notebook is a complete walkthrough with notes and explanations. It can be used as a reference, a study guide and provide one possible answer that you can use to compare with your attempt. This notebook is too long to be a [CodeKatas](http://codekata.com/) but aspires to similar principles. \n",
        "\n",
        "## CodeKata Principles\n",
        "\n",
        "With CodeKatas, you are trying to solve a problem and follow the best practices of the programming language.   There are no right or wrong answers. The benefit comes from the process, not from the result. See [Awesome Katas] for a curated list of CodeKatas see [Awesome Katas](https://github.com/gamontal/awesome-katas). For Python CodeKatas see [here](https://github.com/clair3st/code-katas).\n",
        "\n",
        "## What are *our* Best Practices\n",
        "\n",
        "Here are the best practices we have been applying throughout the course.\n",
        "\n",
        "1. Use a code repository (*GitHub, small frequent commits*)\n",
        "2. Follow style guidelines (*PEP8*)\n",
        "3. Correct broken code immediately (*exception handling, input validation, testing*)\n",
        "4. Use the PyPI instead of doing it yourself (*import module*)\n",
        "5. Use the Right Data Types and Structures (*int, float, list, etc. *)\n",
        "6. Write Readable Code (*meaningful names and comments*)\n",
        "7. Create readable documentation (*Docstrings*)\n",
        "8. Use Virtual Environments (*Google VM instance, Binder*)\n",
        "9. Avoid anti-patterns (*be specific imports, exceptions etc. *)\n",
        "10. Follow *Zen of Python* (try *import this*)\n",
        "\n",
        "## How to use this notebook\n",
        "\n",
        "You should copy the notebook, delete all the cells except for *The Challenge - Simple Calculator* and then attempt to solve the problem by applying the best practices above."
      ],
      "metadata": {
        "id": "MvTMTZ3wmFTr"
      }
    },
    {
      "cell_type": "markdown",
      "source": [
        "## The Challenge - Simple Calculator\n",
        "\n",
        "Write a program to prompt the user to select a mathematical operation and input two numbers. The program will then operate on the two numbers and output the result. The user will be able to continue performing operations on numbers or exit the program. The arithmetic operations include: \n",
        "* addition, \n",
        "* subtraction, \n",
        "* multiplication, and \n",
        "* division. \n",
        "\n",
        "Let's review the *Zen of Python*.  Run the following code cell"
      ],
      "metadata": {
        "id": "M79wKJcEvqEN"
      }
    },
    {
      "cell_type": "code",
      "execution_count": null,
      "metadata": {
        "id": "13KvbCwKmDvQ"
      },
      "outputs": [],
      "source": [
        "import this"
      ]
    },
    {
      "cell_type": "markdown",
      "source": [
        "# Step 0 - Create code repository\n",
        "\n",
        "All projects need a project folder. We will use the code repository to store the project. Go to GitHub, create a new repository with a meaningful name, like calculator, and add a README. Adding a readme file will initialise the repository. Initialising is *critical* and will make it easy to add files later.\n",
        "\n",
        "This notebook assumes we use Google Colab as the Integrated Development Environment (IDE). For our workflow and easy integration with the IDE, tick the box \"Include a link to Colaboratory\".\n",
        "\n",
        "This notebook will have small and frequent commits (Best Practice #1). You can look at the history of the notebook to view the commits.\n",
        "\n",
        "Clear all cell outputs and save this notebook. It is essential to clear cell outputs before saving. Otherwise, this can store a lot of unnecessary changes in the GitHub repository.  \n"
      ],
      "metadata": {
        "id": "agykSnZAgWYk"
      }
    },
    {
      "cell_type": "markdown",
      "source": [
        "# Step 1 - State the problem clearly\n",
        "\n",
        "We are following 5 step methodology:\n",
        "1. State the problem clearly\n",
        "2. Describe the input and output information\n",
        "3. Work the problem by hand\n",
        "4. Develop an algorithm (and convert it to python) \n",
        "5. Test solution with a variety of data\n",
        "\n",
        "It is never as simple as doing Step 1, then Step 2 etc. You will do Step 1 as good as you can for any problem. But sometimes, in a later step, you develop a deeper understanding of the problem, which may require you to revisit an earlier stage.\n",
        "\n",
        "## The Approach\n",
        "\n",
        "A calculator is a portable electronic device used to perform calculations. We have probably all used a calculator. Our program is to perform basic calculations on user input. The program will handle user input, math operators, variables, conditional statements, functions, and output operations while building the program.\n",
        "\n",
        "* The user can choose the desired operation from a simple menu\n",
        "* The user can input two numbers\n",
        "* The program will use branching to select the particular operation to apply to the input numbers\n",
        "* The program will create functions for add(), subtract(), multiply() and divide() function for evaluation the respective operation in the calculator.\n",
        "* The program will ask if you want to do another calculation or exit.\n",
        "\n",
        "*Note: We haven't learned about Object Oriented programming so that this solution will use a procedural approach*\n",
        "\n",
        "Clear all cell outputs and commit this notebook. Don't forget to include a commit message.\n"
      ],
      "metadata": {
        "id": "RtoKVlMiuQvj"
      }
    },
    {
      "cell_type": "markdown",
      "source": [
        "# Step 2 - Describe inputs and outputs\n",
        "\n",
        "```\n",
        "            +-----------+\n",
        "            |           |\n",
        " INPUT ---> | Algorithm | ---> OUTPUT\n",
        "            |           |\n",
        "            ------------+\n",
        "```\n",
        "\n",
        "Inputs\n",
        "* Operation symbol/code representing either add, subtract, multiply or divide.\n",
        "* First number. It can be a real number, positive or negative.\n",
        "* Second number. It can be a real number, positive or negative.\n",
        "* Yes/No. Yes, to perform another calculation. No, to exit the program\n",
        "\n",
        "Outputs\n",
        "* Menu to display available operations\n",
        "* Result of operating on the first and second numbers.\n",
        "* Prompt to perform another operation to continue or exit the program.\n",
        "\n",
        "Clear all cell outputs and commit this notebook. "
      ],
      "metadata": {
        "id": "JhZpkgCn1hRR"
      }
    },
    {
      "cell_type": "markdown",
      "source": [
        "# Step 3 - Work the problem by hand\n",
        "\n",
        "This step is to gain a deeper understanding of the problem to make it easier to express a solution.  The operations for our calculator are simple, so we will only include a few examples for each function.  These worked examples also become our initial test cases (see Step 5 Test with a variety of data).\n",
        "\n",
        "We typically only focus on valid inputs, but you can work through those examples here if you think of potential invalid inputs.  Otherwise, make a note and perhaps your expected outcome for use in Step 5.\n",
        "\n",
        "Operation add()\n",
        "\n",
        "| Example    | Expected |\n",
        "|------------|----------|\n",
        "|0 + 0       | 0        |\n",
        "|1 + 1       | 2        |\n",
        "|4 + 2.3     | 6.3      |\n",
        "|3.2 + 1     | 4.2      |\n",
        "|-1.7 + -1.3 | -3       |\n",
        "\n",
        "Operation subtract()\n",
        "\n",
        "| Example    | Expected |\n",
        "|------------|----------|\n",
        "|0 - 0       | 0        |\n",
        "|1 - 1       | 0        |\n",
        "|4 - 2.3     | 2.3      |\n",
        "|3.2 - 1     | 1.2      |\n",
        "|-1.7 - -1.3 | -0.4     |\n",
        "\n",
        "Operation multiply()\n",
        "\n",
        "| Example    | Expected |\n",
        "|------------|----------|\n",
        "|0 * 0       | 0        |\n",
        "|1 * 1       | 1        |\n",
        "|4 * 2.3     | 8.3      |\n",
        "|3.2 * 1     | 3.2      |\n",
        "|-1.7 * -1.3 | 2.21     |\n",
        "\n",
        "Operation divide()\n",
        "\n",
        "| Example    | Expected   |\n",
        "|------------|------------|\n",
        "|0 / 0       | UNK        |\n",
        "|1 / 1       | 1          |\n",
        "|4 / 2.3     | 1.739130434|\n",
        "|3.2 / 1     | 3.2        |\n",
        "|-1.7 / -1.3 | 1.307692307|\n",
        "\n",
        "In doing this step we have also identifed the potential symbols we are going to use to represent the operation.\n",
        "\n",
        "Clear all cell outputs and commit this notebook.\n"
      ],
      "metadata": {
        "id": "QbcW--uE5x1z"
      }
    },
    {
      "cell_type": "markdown",
      "source": [
        "# Step 4 - Develop an algorithm (and convert it to python)\n",
        "\n",
        "You have a good idea of the problem and how you might implement the solution. You could start writing some code, but it is good to write pseudocode. This process can help clarify your ideas, and often these can be used as comments in your code. Depending on the complexity of the problem, your experience, the steps and functions may seem obvious. The important part is to express a potential solution without worrying about the syntax of a programming language.\n",
        "\n",
        "Here might be the first attempt:\n",
        "\n",
        "    Display the menu\n",
        "    Let operation equal the return value from Display Menu\n",
        "    Prompt the user for a number and store it in first_number\n",
        "    Prompt the user for a number and store it in second_number\n",
        "    if operation equals '+'\n",
        "      then add first_number and second_number\n",
        "    else if operation equals '-'\n",
        "      then subtract first_number from second_number\n",
        "    else if operation equals '*'\n",
        "      then multiply first_number and second_number\n",
        "    else if operation equals '/'\n",
        "      then divide first_number by the second_number\n",
        "\n",
        "\n",
        "Display Menu:\n",
        "\n",
        "    Display\n",
        "      What operation you would like to complete:\n",
        "      + for addition\n",
        "      - for subtraction\n",
        "      * for multiplication\n",
        "      / for division\n",
        "    Get answer\n",
        "    return answer\n",
        "\n",
        "\n",
        "There are lots of possible designs here. Depending on your experience, you might consider input validation and include some pseudocode to check for numbers as input. \n",
        "\n",
        "For now, clear all cell outputs and commit this notebook."
      ],
      "metadata": {
        "id": "f93FrO3ABWHZ"
      }
    },
    {
      "cell_type": "markdown",
      "source": [
        "# Final Design\n",
        "\n",
        "There were multiple revisions to get to the final design below. Some design elements (functions, modules etc.) may not be evident until you implement them. What follows are some discussion points that might have triggered a revision.\n",
        "\n",
        "What do we mean by the phrase ```then add first_number and second_number```. Is this going a call to a function, or will we use the Python built-in addition operator ```+```. \n",
        "\n",
        "We will implement it as a function. This decision is in part because we want to practice different programming constructs and in part because, although not sure, we can think of more complex possibilities that we may want to implement in the future.\n",
        "\n",
        "What about the ability to prompt the user to perform another operation or exit the program. What type of construct would we need here? The phrase ```perform another``` sounds like we need to repeat a section of our program. To repeat, we need a loop.\n",
        "\n",
        "Depending on your experience, you might even begin to think about grouping some of the functions into modules. Or you may identify modules after you start to implement. With our simple program, modules are probably not needed, but having modules that we have to import is good practice. \n",
        "\n",
        "**Main line**\n",
        "\n",
        "    let want to continue = True\n",
        "    while want_to_continue\n",
        "      let operation equal return value display_menu\n",
        "      prompt for a number and store it in first_number\n",
        "      prompt for a number and store it in second_number\n",
        "      let result equal return from do_math(operation, first_number, second_number)\n",
        "      display result\n",
        "      let want_to_continue equal return value from ask_to_continue()\n",
        "\n",
        "\n",
        "\n",
        "**MODULE: Interface**\n",
        "\n",
        "display_menu:\n",
        "\n",
        "    display\n",
        "      \"What operation you would like to complete:\n",
        "      + for addition\n",
        "      - for subtraction\n",
        "      * for multiplication\n",
        "      / for division\"\n",
        "    Get answer\n",
        "    return answer\n",
        "\n",
        "ask_to_continue:\n",
        "\n",
        "    let result equal False\n",
        "    display \n",
        "      \"Do you want to calculate again? \n",
        "       Please type Y for YES or N for NO.\"\n",
        "    if answer equals 'Y'\n",
        "      let result = True\n",
        "    return result\n",
        "\n",
        "**MODULE: mathematical_operations**\n",
        "\n",
        "doMath: receives: operatoion, first_number, second_number\n",
        "\n",
        "    if operation equals '+'\n",
        "      result equals return value from add(first_number, second_number)\n",
        "    else if operation equals '-'\n",
        "      result equals return value from subtract(first_number, second_number)\n",
        "    else if operation equals '*'\n",
        "      result equals return value from multiply(first_number, second_number)\n",
        "    else if operation equals '/'\n",
        "      result equals return value from divide(first_number, second_number)\n",
        "\n",
        "add: receives number1, number2\n",
        "\n",
        "    if number1 and number2 are numbers\n",
        "      result = number1 + number2\n",
        "    else\n",
        "      result = \"UNK\"\n",
        "    return result\n",
        "\n",
        "subtract: receives number1, number2\n",
        "\n",
        "    if number1 and number2 are numbers\n",
        "      result = number1 - number2\n",
        "    else\n",
        "      result = \"UNK\"\n",
        "    return result\n",
        "\n",
        "multiply: receives number1, number2\n",
        "\n",
        "    if number1 and number2 are numbers\n",
        "      result = number1 * number2\n",
        "    else\n",
        "      result = \"UNK\"\n",
        "    return result\n",
        "\n",
        "divide: receives number1, number2\n",
        "\n",
        "    if number2 and number2 are numbers and number2\n",
        "      result = number1 / number2\n",
        "    else\n",
        "      result = \"UNK\"\n",
        "    return result\n",
        "\n",
        "\n",
        "**MODULE: Utilities**\n",
        "\n",
        "isNumber: receives number\n",
        "\n",
        "    result = False\n",
        "    if number is and integer or real number\n",
        "      result = True\n",
        "    return result\n",
        "    \n",
        "clear all cell outputs and commit this notebook."
      ],
      "metadata": {
        "id": "qUc7ICrpHfTc"
      }
    },
    {
      "cell_type": "code",
      "source": [
        ""
      ],
      "metadata": {
        "id": "WT6Y3d7yz8jk"
      },
      "execution_count": null,
      "outputs": []
    }
  ]
}