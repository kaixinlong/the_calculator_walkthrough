{
  "nbformat": 4,
  "nbformat_minor": 0,
  "metadata": {
    "colab": {
      "name": "calculator_better.ipynb",
      "provenance": [],
      "authorship_tag": "ABX9TyNQMxEkKceXvTh8rjYmdHm9",
      "include_colab_link": true
    },
    "kernelspec": {
      "name": "python3",
      "display_name": "Python 3"
    },
    "language_info": {
      "name": "python"
    }
  },
  "cells": [
    {
      "cell_type": "markdown",
      "metadata": {
        "id": "view-in-github",
        "colab_type": "text"
      },
      "source": [
        "<a href=\"https://colab.research.google.com/github/michael-borck/the_calculator_walkthrough/blob/main/calculator_better.ipynb\" target=\"_parent\"><img src=\"https://colab.research.google.com/assets/colab-badge.svg\" alt=\"Open In Colab\"/></a>"
      ]
    },
    {
      "cell_type": "markdown",
      "source": [
        "# Calculator - Better Design\n",
        "\n",
        "This notebook implements a variation of the final design from [the_calculator_walkthrough.ipynb](https://github.com/michael-borck/the_calculator_walkthrough/blob/main/calculator_walkthrough.ipynb).\n",
        "\n",
        "This design and implementation is also a possible next version from the initial design in the notebook [Calculator - Good Design](https://github.com/michael-borck/the_calculator_walkthrough/blob/main/calculator_good.ipynb), or perhaps this design is the starting point from the earlier stages in our methodology.\n",
        "\n",
        "We will write a little, test and perform frequent commits.  We will ensure that the final program will operate correctly through this process.\n",
        "\n",
        "## What are *our* Best Practices\n",
        "\n",
        "Here are the best practices we have been applying throughout the course.\n",
        "\n",
        "1. Use a code repository (*GitHub, small frequent commits*)\n",
        "2. Follow style guidelines (*PEP8*)\n",
        "3. Correct broken code immediately (*exception handling, input validation, testing*)\n",
        "4. Use the PyPI instead of doing it yourself (*search and import module*)\n",
        "5. Use the Right Data Types and Structures (*int, float, list, etc. *)\n",
        "6. Write Readable Code (*meaningful names and comments*)\n",
        "7. Create readable documentation (*Docstrings*)\n",
        "8. Use Virtual Environments (*Google VM instance, Binder*)\n",
        "9. Avoid anti-patterns (*be specific imports, exceptions etc. *)\n",
        "10. Follow *Zen of Python* (try *import this*)\n",
        "\n",
        "## The Challenge - Simple Calculator\n",
        "\n",
        "Write a program to prompt the user to select a mathematical operation and input two numbers. The program will then operate on the two numbers and output the result. The user will be able to continue performing operations on numbers or exit the program. The arithmetic operations include: \n",
        "* addition, \n",
        "* subtraction, \n",
        "* multiplication, and \n",
        "* division. \n",
        "\n",
        "## How to use this notebook\n",
        "\n",
        "You should read the text and execute each code cell in order the first time through. Then when you understand the program, you should copy the notebook, delete all the cells except for The Design, and attempt to implement the design following the best practices listed above."
      ],
      "metadata": {
        "id": "KBl6XcO6ZqfJ"
      }
    },
    {
      "cell_type": "markdown",
      "source": [
        "# The Design\n",
        "\n",
        "\n",
        "**MODULE: Main program**\n",
        "\n",
        "    let want to continue = True\n",
        "    while want_to_continue\n",
        "      let operation equal return value display_menu\n",
        "      prompt for a number and store it in first_number\n",
        "      prompt for a number and store it in second_number\n",
        "      let result equal return from do_math(operation, first_number, second_number)\n",
        "      display result\n",
        "      let want_to_continue equal return value from ask_to_continue()\n",
        "\n",
        "\n",
        "**MODULE: User Interface**\n",
        "\n",
        "    FUNCTION: display_menu\n",
        "\n",
        "    display\n",
        "        \"What operation you would like to complete:\n",
        "        + for addition\n",
        "        - for subtraction\n",
        "        * for multiplication\n",
        "        / for division\"\n",
        "      Get answer\n",
        "      return answer\n",
        "\n",
        "\n",
        "    FUNCTION: ask_to_continue\n",
        "\n",
        "      let result equal False\n",
        "      display \n",
        "        \"Do you want to calculate again? \n",
        "        Please type Y for YES or N for NO.\"\n",
        "      if answer equals 'Y'\n",
        "        let result = True\n",
        "      return result\n",
        "\n",
        "\n",
        "**MODULE: Mathematical Operations**\n",
        "\n",
        "    FUNCTION doMath\n",
        "      Receives: operation, first_number, second_number\n",
        "\n",
        "      if operation equals '+'\n",
        "        result equals return value from add(first_number, second_number)\n",
        "      else if operation equals '-'\n",
        "        result equals return value from subtract(first_number, second_number)\n",
        "      else if operation equals '*'\n",
        "        result equals return value from multiply(first_number, second_number)\n",
        "      else if operation equals '/'\n",
        "        result equals return value from divide(first_number, second_number)\n",
        "\n",
        "\n",
        "    FUNCTION add\n",
        "      Receives number1, number2\n",
        "\n",
        "      result = \"UNK\"\n",
        "      if number1 and number2 are numbers\n",
        "        result = number1 + number2\n",
        "      \n",
        "      return result\n",
        "\n",
        "\n",
        "    FUNCTION: subtract \n",
        "      Receives number1, number2\n",
        "\n",
        "      result = \"UNK\"\n",
        "      if number1 and number2 are numbers\n",
        "        result = number1 - number2\n",
        "      return result\n",
        "\n",
        "\n",
        "    FUNCTION multiply \n",
        "      Receives: number1, number2\n",
        "\n",
        "      result = \"UNK\"\n",
        "      if number1 and number2 are numbers\n",
        "        result = number1 * number2\n",
        "      return result\n",
        "\n",
        "\n",
        "    FUNCTION: divide. \n",
        "      Receives: number1, number2\n",
        "\n",
        "      result = \"UNK\"\n",
        "      if number2 and number2 are numbers and number2 not equal zero\n",
        "        result = number1 / number2\n",
        "      return result\n",
        "\n",
        "\n",
        "**MODULE: Utilities**\n",
        "\n",
        "    FUNCTION isNumber \n",
        "      Receives: number\n",
        "\n",
        "      return (number is and integer or real number)\n",
        "\n",
        "# Conversion to Python\n",
        "\n",
        "This notebook will implement the final design in a single notebook. We will put each module into its cell toward the top of the notebook. Below the cells for the modules is where the development will occur. When we are happy, we will paste the final version of the function into the module cell. We will add one module not listed in the design and testing.\n",
        "\n",
        "Where do you start with converting the design? The answer is anywhere. A good strategy is to implement something you understand. It doesn't matter if it is a small part; start and build on that. \n",
        "\n",
        "We will test the code as we implement it. Sometimes, there may be parts of the design you need but haven't imlemented yet to perform a test. In these cases, we will create temporary variables with suitable values so we can test our code.\n",
        "\n",
        "We will use the design as comments. This method will also help us track what parts of the design we have completed.\n",
        "\n",
        "We will take a trial and error approach and implement snippets in different cells for development. When we are happy with the code, we will collate all the snippets into one cell. You would either generate a new notebook with the finished product or delete all the unnecessary snippets for production.\n"
      ],
      "metadata": {
        "id": "Fy-6tG0qv1h_"
      }
    },
    {
      "cell_type": "markdown",
      "source": [
        "# Modules"
      ],
      "metadata": {
        "id": "wTOxfkUI17ay"
      }
    },
    {
      "cell_type": "code",
      "source": [
        "# Module User Interface"
      ],
      "metadata": {
        "id": "b_J45H1Q1BaI"
      },
      "execution_count": null,
      "outputs": []
    },
    {
      "cell_type": "code",
      "source": [
        "# Module Mathematical Operations"
      ],
      "metadata": {
        "id": "4UWGmU7n1BQr"
      },
      "execution_count": null,
      "outputs": []
    },
    {
      "cell_type": "code",
      "source": [
        "# Module Utilities"
      ],
      "metadata": {
        "id": "kC_Lf1Qo1BFV"
      },
      "execution_count": null,
      "outputs": []
    },
    {
      "cell_type": "code",
      "source": [
        "# Module Testing"
      ],
      "metadata": {
        "id": "0tUH0JCB1sg6"
      },
      "execution_count": null,
      "outputs": []
    },
    {
      "cell_type": "markdown",
      "source": [
        "# Main Program"
      ],
      "metadata": {
        "id": "SMylJlwo2CYk"
      }
    },
    {
      "cell_type": "code",
      "source": [
        "# Module Main Program"
      ],
      "metadata": {
        "id": "cpYvKtF31BjB"
      },
      "execution_count": null,
      "outputs": []
    },
    {
      "cell_type": "markdown",
      "source": [
        "# Development Workspace"
      ],
      "metadata": {
        "id": "ZDF09cRS11dW"
      }
    },
    {
      "cell_type": "markdown",
      "source": [
        "Lets start with the utilities module.  This is for two reasons, the functions in the module appear very simple and it is expected many of the other functions may need this utilities."
      ],
      "metadata": {
        "id": "qpukIgxZ2KcR"
      }
    },
    {
      "cell_type": "code",
      "source": [
        ""
      ],
      "metadata": {
        "id": "wgkqSWXP14rf"
      },
      "execution_count": null,
      "outputs": []
    }
  ]
}