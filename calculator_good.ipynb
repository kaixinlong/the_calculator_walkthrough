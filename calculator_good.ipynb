{
  "nbformat": 4,
  "nbformat_minor": 0,
  "metadata": {
    "colab": {
      "name": "calculator_good.ipynb",
      "provenance": [],
      "authorship_tag": "ABX9TyOxVFTenMU2GhqViEYlp2qX",
      "include_colab_link": true
    },
    "kernelspec": {
      "name": "python3",
      "display_name": "Python 3"
    },
    "language_info": {
      "name": "python"
    }
  },
  "cells": [
    {
      "cell_type": "markdown",
      "metadata": {
        "id": "view-in-github",
        "colab_type": "text"
      },
      "source": [
        "<a href=\"https://colab.research.google.com/github/michael-borck/the_calculator_walkthrough/blob/main/calculator_good.ipynb\" target=\"_parent\"><img src=\"https://colab.research.google.com/assets/colab-badge.svg\" alt=\"Open In Colab\"/></a>"
      ]
    },
    {
      "cell_type": "markdown",
      "source": [
        "# Calculator - Good Design\n",
        "\n",
        "This notebook implements the initial design from [the_calculator_walkthrough.ipynb](https://github.com/michael-borck/the_calculator_walkthrough/blob/main/calculator_walkthrough.ipynb).\n",
        "\n",
        "It makes for a good starting point. We will write a litte, test and perform frequent commits.  Through this process we will ensure that the final program will operate correctly.\n",
        "\n",
        "## What are *our* Best Practices\n",
        "\n",
        "Here are the best practices we have been applying throughout the course.\n",
        "\n",
        "1. Use a code repository (*GitHub, small frequent commits*)\n",
        "2. Follow style guidelines (*PEP8*)\n",
        "3. Correct broken code immediately (*exception handling, input validation, testing*)\n",
        "4. Use the PyPI instead of doing it yourself (*search and import module*)\n",
        "5. Use the Right Data Types and Structures (*int, float, list, etc. *)\n",
        "6. Write Readable Code (*meaningful names and comments*)\n",
        "7. Create readable documentation (*Docstrings*)\n",
        "8. Use Virtual Environments (*Google VM instance, Binder*)\n",
        "9. Avoid anti-patterns (*be specific imports, exceptions etc. *)\n",
        "10. Follow *Zen of Python* (try *import this*)\n",
        "\n",
        "## The Challenge - Simple Calculator\n",
        "\n",
        "Write a program to prompt the user to select a mathematical operation and input two numbers. The program will then operate on the two numbers and output the result. The user will be able to continue performing operations on numbers or exit the program. The arithmetic operations include: \n",
        "* addition, \n",
        "* subtraction, \n",
        "* multiplication, and \n",
        "* division. \n",
        "\n",
        "## How to use this notebook\n",
        "\n",
        "You should copy the notebook, delete all the cells except for *The Design* and then attempt to implement the design follow the best practices lsted above."
      ],
      "metadata": {
        "id": "S9VStu5RRdm3"
      }
    },
    {
      "cell_type": "markdown",
      "source": [
        "# The Design\n",
        "\n",
        "    Display\n",
        "      What operation you would like to complete:\n",
        "      + for addition\n",
        "      - for subtraction\n",
        "      * for multiplication\n",
        "      / for division\n",
        "    Get answer from user and store in operation\n",
        "\n",
        "    Prompt the user for a number and store it in first_number\n",
        "    Prompt the user for a number and store it in second_number\n",
        "    \n",
        "    if operation equals '+'\n",
        "      then add first_number and second_number\n",
        "    else if operation equals '-'\n",
        "      then subtract first_number from second_number\n",
        "    else if operation equals '*'\n",
        "      then multiply first_number and second_number\n",
        "    else if operation equals '/'\n",
        "      then divide first_number by the second_number\n",
        "\n",
        "# Conversion to Python\n",
        "\n",
        "Where do you start with converting the design? The answer is anywhere. A good strategy is to implement something you understand. It doesn't matter if it is a small part; start and build on that. \n",
        "\n",
        "We will test the code as we implement it. Sometimes, there may be parts of the design you need but haven't imlemented yet to perform a test. In these cases, we will create temporary variables with suitable values so we can test our code.\n",
        "\n",
        "We will use the design as comments. This method will also help us track what parts of the design we have completed.\n",
        "\n",
        "We will take a trial and error approach and implement snippets in different cells for development. When we are happy with the code, we will collate all the snippets into one cell. You would either generate a new notebook with the finished product or delete all the unnecessary snippets for production."
      ],
      "metadata": {
        "id": "xw1U-nFeYzE8"
      }
    },
    {
      "cell_type": "markdown",
      "source": [
        "# Step 1 - Prompt the user for a number\n",
        "We will start writing your program at the point where the human enters the numbers. Copy the following line ```Prompt the user for a number and store it in first_number```from the design and paste it into a code cell as a comment.\n",
        "\n",
        "We can do this by using Python’s built-in input() function to accept user-generated input from the keyboard. Inside of the parentheses of the input() function you can pass a string to prompt the user, and then assign the user’s input to a variable. It can be helpful to include a space at the end of your string so that there is a space between the user’s input and the prompting string:\n",
        "\n",
        "Clear all cell outputs and commit this notebook. Don't forget to include a commit message and ensure to tick the ```Include a link to Colaboratory``` checkbox."
      ],
      "metadata": {
        "id": "uSEilJ0sloBs"
      }
    },
    {
      "cell_type": "code",
      "execution_count": null,
      "metadata": {
        "id": "WXFZb07UQ3ZV"
      },
      "outputs": [],
      "source": [
        "# Prompt the user for a number and store it in first_number\n",
        "first_number = input('Please enter your first number ')"
      ]
    },
    {
      "cell_type": "markdown",
      "source": [
        "Well the seemd to work.  One way to check is to use the print() function to display the contents of ```first_number``"
      ],
      "metadata": {
        "id": "cHwHsfe2nyQu"
      }
    },
    {
      "cell_type": "code",
      "source": [
        "print(first_number)"
      ],
      "metadata": {
        "id": "4PC5XYFUnsYC"
      },
      "execution_count": null,
      "outputs": []
    },
    {
      "cell_type": "markdown",
      "source": [
        "Okay, looking good. \n",
        "\n",
        "Clear all cell outputs and save this notebook. It is essential to clear cell outputs before saving. Otherwise, this can store a lot of unnecessary changes in the GitHub repository.\n",
        "\n",
        "But we can enter whatever you want when prompted. This is because ```input()``` takes data in as strings and doesn’t know that you’re looking for numbers.\n",
        "\n",
        "We want to use numbers in this program for to enable the program to perform mathematical calculations.  So we need to validate that the user’s input is a numerical string.  We can wrap the ```input()``` function in the ```int()``` function to convert the input to the integer data type.  \n",
        "\n",
        "Lets try the wrapper verison.  We can use the ```type()``` function to check it is an integer."
      ],
      "metadata": {
        "id": "aQZbMFGxoIC5"
      }
    },
    {
      "cell_type": "code",
      "source": [
        "# Prompt the user for a number and store it in first_number\n",
        "first_number = int(input('Please enter your first number '))\n",
        "print(first_number)\n",
        "print(type(first_number))"
      ],
      "metadata": {
        "id": "mQlybGMvoFTQ"
      },
      "execution_count": null,
      "outputs": []
    },
    {
      "cell_type": "markdown",
      "source": [
        "But what about numbers like 2.31456? \n"
      ],
      "metadata": {
        "id": "JHC3owchqMtG"
      }
    },
    {
      "cell_type": "code",
      "source": [
        "# Prompt the user for a number and store it in first_number\n",
        "first_number = int(input('Please enter your first number '))\n",
        "print(first_number)\n",
        "print(type(first_number))"
      ],
      "metadata": {
        "id": "7I4-5AejqJhe"
      },
      "execution_count": null,
      "outputs": []
    },
    {
      "cell_type": "markdown",
      "source": [
        "Umm... an exception is thrown.  This is not good.  Perhaps we can use a ```float()```.  For our Calculator it doesn't matter if 2 is 2.0, inface using floats will give us greater precision."
      ],
      "metadata": {
        "id": "TH5FaWZSqVR0"
      }
    },
    {
      "cell_type": "code",
      "source": [
        "# Prompt the user for a number and store it in first_number\n",
        "first_number = float(input('Please enter your first number '))\n",
        "print(first_number)\n",
        "print(type(first_number))"
      ],
      "metadata": {
        "id": "q4xqr_QiqTB0"
      },
      "execution_count": null,
      "outputs": []
    },
    {
      "cell_type": "markdown",
      "source": [
        "That seems to be working.\n",
        "\n",
        "We should have saved to GitHub a few cells earlier. Never mind, clear all cell outputs and commit this notebook. Don't forget to include a commit message!\n",
        "\n",
        "What happens if we don't type in a number? Will it still work?"
      ],
      "metadata": {
        "id": "JvYWFfNzrhqf"
      }
    },
    {
      "cell_type": "code",
      "source": [
        "# Prompt the user for a number and store it in first_number\n",
        "first_number = float(input('Please enter your first number '))\n",
        "print(first_number)\n",
        "print(type(first_number))"
      ],
      "metadata": {
        "id": "nE7Rrd1SrfBI"
      },
      "execution_count": null,
      "outputs": []
    },
    {
      "cell_type": "markdown",
      "source": [
        "Umm. another exception.  If you click on ```Search Stack Overflow``` button and read through some of the links (perhaps recall form lectures) we can use a try/except block to capture the exception and then decide what to do."
      ],
      "metadata": {
        "id": "zhwpWuXZsbpb"
      }
    },
    {
      "cell_type": "code",
      "source": [
        "try: \n",
        "  # Prompt the user for a number and store it in first_number\n",
        "  first_number = float(input('Please enter your first number '))\n",
        "  print(first_number)\n",
        "except ValueError:\n",
        "  print(\"I can't process words, please input a number using the digits\")"
      ],
      "metadata": {
        "id": "jLQEQp6lsXg8"
      },
      "execution_count": null,
      "outputs": []
    },
    {
      "cell_type": "markdown",
      "source": [
        "Okay, that kinda works, but we need to go back and prompt the user again.  In python we can do this using a while loop.  We will use a [Python idiom](https://intermediate-and-advanced-software-carpentry.readthedocs.io/en/latest/idiomatic-python.html#:~:text=Idiomatic%20Python%20is%20what%20you,extraneous%20to%20your%20real%20problem.) ```while true``` to continue prompt the use until a number is entered."
      ],
      "metadata": {
        "id": "V4yfxTSYtkA2"
      }
    },
    {
      "cell_type": "code",
      "source": [
        "while True:\n",
        "  try: \n",
        "    # Prompt the user for a number and store it in first_number\n",
        "    first_number = float(input('Please enter your first number '))\n",
        "    print(first_number)\n",
        "    break\n",
        "  except ValueError:\n",
        "    print(\"I can't process words, please input a number using the digits\")"
      ],
      "metadata": {
        "id": "4zSVaa_6tgUV"
      },
      "execution_count": null,
      "outputs": []
    },
    {
      "cell_type": "markdown",
      "source": [
        "That works but looks a bit messy.  Is there a better way.  Maybe someone has solved this problem before.\n",
        "\n",
        "Clear all cell outputs and commit this notebook. \n",
        "\n",
        "Then search the internet for PyInputPlus"
      ],
      "metadata": {
        "id": "4Pr3byE9wPv3"
      }
    },
    {
      "cell_type": "markdown",
      "source": [
        "The PyInputPlus module looks perfect, specifically ```inputNum()``` function form the package. Copy the install instructions for PyPi and paste below to install the package. This is an example of applying Best Practice number 4"
      ],
      "metadata": {
        "id": "gIf5mYc2w8IW"
      }
    },
    {
      "cell_type": "code",
      "source": [
        "!pip install PyInputPlus"
      ],
      "metadata": {
        "id": "0CBSwdytwGhb"
      },
      "execution_count": null,
      "outputs": []
    },
    {
      "cell_type": "code",
      "source": [
        "import pyinputplus as pyip\n",
        "first_number = pyip.inputNum(\"Please enter the first number \")\n",
        "print(first_number)\n",
        "print(type(first_number))"
      ],
      "metadata": {
        "id": "BlDJoLGIyjcA"
      },
      "execution_count": null,
      "outputs": []
    },
    {
      "cell_type": "markdown",
      "source": [
        "Try the above a few time and convience youself that you can input numbers. When happy, clear the outputs and commit this notebook."
      ],
      "metadata": {
        "id": "3hiYJkcQz9-a"
      }
    },
    {
      "cell_type": "code",
      "source": [
        "import pyinputplus as pyip\n",
        "\n",
        "# Prompt the user for a number and store it in first_number\n",
        "first_number = pyip.inputNum(\"Please enter the first number \")\n",
        "\n",
        "#Prompt the user for a number and store it in second_number\n",
        "second_number = pyip.inputNum(\"Please enter the second number \")\n"
      ],
      "metadata": {
        "colab": {
          "base_uri": "https://localhost:8080/"
        },
        "id": "NfVAmF09y3Ja",
        "outputId": "87b7409d-a22b-44c5-c827-8962571360db"
      },
      "execution_count": 16,
      "outputs": [
        {
          "name": "stdout",
          "output_type": "stream",
          "text": [
            "Please enter the first number 21\n",
            "Please enter the second number 21.3\n"
          ]
        }
      ]
    },
    {
      "cell_type": "markdown",
      "source": [
        "We have input for first and second number working.   Next we will work on the big if-else block i the design.\n",
        "\n",
        "But first, clear outputs and commit this notebook.\n"
      ],
      "metadata": {
        "id": "G5s8GhRX2wnC"
      }
    },
    {
      "cell_type": "markdown",
      "source": [
        "## Step 2 Implement operators\n",
        "\n",
        "We want to to implement this large block from the design.\n",
        "\n",
        "    if operation equals '+'\n",
        "      then add first_number and second_number\n",
        "    else if operation equals '-'\n",
        "      then subtract first_number from second_number\n",
        "    else if operation equals '*'\n",
        "      then multiply first_number and second_number\n",
        "    else if operation equals '/'\n",
        "      then divide first_number by the second_number\n",
        "\n",
        "Rather than try to do the whole block let's consider the the true branch of each operator.  \n",
        "\n",
        "      add first_number and second_number\n",
        "      \n",
        "      subtract first_number from second_number\n",
        "      \n",
        "      multiply first_number and second_number\n",
        "      \n",
        "      divide first_number by the second_number\n",
        "\n",
        "So we will test, add, subtract, multiple and divide.\n",
        "\n",
        "But... What is the output?  The design doesn't specify what is to be displayed to the screen.\n",
        "\n",
        "> *Note: Missing design functinality is often discoverd at implementation or testing.  When doing a design you may not think of everything.*\n",
        "\n",
        "So lets update our design:\n",
        "\n",
        "      add first_number and second_number and store in result\n",
        "      display 'first_number + second_number = result'\n",
        "\n",
        "      subtract first_number from second_number and store in result\n",
        "      display 'first_number - second_number = result'\n",
        "      \n",
        "      multiply first_number and second_number and store in result\n",
        "      display 'first_number * second_number = result'\n",
        "      \n",
        "      divide first_number by the second_number and store in result\n",
        "      display 'first_number / second_number = result'\n",
        "\n",
        "\n",
        "Clear outputs and commit this notebook to your repository.\n",
        "\n",
        "Now lets get add working.  We will copy the input statements from above and perform the addition operation."
      ],
      "metadata": {
        "id": "BkAbi0MD47Rz"
      }
    },
    {
      "cell_type": "code",
      "source": [
        "import pyinputplus as pyip\n",
        "\n",
        "# Prompt the user for a number and store it in first_number\n",
        "first_number = pyip.inputNum(\"Please enter the first number \")\n",
        "\n",
        "#Prompt the user for a number and store it in second_number\n",
        "second_number = pyip.inputNum(\"Please enter the second number \")\n",
        "\n",
        "# add first_number and second_number and store in result\n",
        "result = first_number + second_number\n",
        "\n",
        "# display 'first_number + second_number = result'\n",
        "print(first_number + ' + ' + second_number + ' = ' + result)"
      ],
      "metadata": {
        "colab": {
          "base_uri": "https://localhost:8080/",
          "height": 240
        },
        "id": "bVpq3jL-7jPW",
        "outputId": "dc832eb1-1277-4baf-8e58-215a3f4db269"
      },
      "execution_count": 17,
      "outputs": [
        {
          "name": "stdout",
          "output_type": "stream",
          "text": [
            "Please enter the first number 21\n",
            "Please enter the second number 21\n"
          ]
        },
        {
          "output_type": "error",
          "ename": "TypeError",
          "evalue": "ignored",
          "traceback": [
            "\u001b[0;31m---------------------------------------------------------------------------\u001b[0m",
            "\u001b[0;31mTypeError\u001b[0m                                 Traceback (most recent call last)",
            "\u001b[0;32m<ipython-input-17-86c1596f74f1>\u001b[0m in \u001b[0;36m<module>\u001b[0;34m()\u001b[0m\n\u001b[1;32m     11\u001b[0m \u001b[0;34m\u001b[0m\u001b[0m\n\u001b[1;32m     12\u001b[0m \u001b[0;31m# display 'first_number + second_number = result'\u001b[0m\u001b[0;34m\u001b[0m\u001b[0;34m\u001b[0m\u001b[0;34m\u001b[0m\u001b[0m\n\u001b[0;32m---> 13\u001b[0;31m \u001b[0mprint\u001b[0m\u001b[0;34m(\u001b[0m\u001b[0mfirst_number\u001b[0m \u001b[0;34m+\u001b[0m \u001b[0;34m' + '\u001b[0m \u001b[0;34m+\u001b[0m \u001b[0msecond_number\u001b[0m \u001b[0;34m+\u001b[0m \u001b[0;34m' = '\u001b[0m \u001b[0;34m+\u001b[0m \u001b[0mresult\u001b[0m\u001b[0;34m)\u001b[0m\u001b[0;34m\u001b[0m\u001b[0;34m\u001b[0m\u001b[0m\n\u001b[0m",
            "\u001b[0;31mTypeError\u001b[0m: unsupported operand type(s) for +: 'int' and 'str'"
          ]
        }
      ]
    },
    {
      "cell_type": "markdown",
      "source": [
        "Umm.. another exception.  Reading the error, or clicking the ```Search Stack Overflow```, or doing a search or from experience we work out we need to convert the variable to string with the ```str()``` function."
      ],
      "metadata": {
        "id": "UqnP-OtE9Lip"
      }
    },
    {
      "cell_type": "code",
      "source": [
        "import pyinputplus as pyip\n",
        "\n",
        "# Prompt the user for a number and store it in first_number\n",
        "first_number = pyip.inputNum(\"Please enter the first number \")\n",
        "\n",
        "#Prompt the user for a number and store it in second_number\n",
        "second_number = pyip.inputNum(\"Please enter the second number \")\n",
        "\n",
        "# add first_number and second_number and store in result\n",
        "result = first_number + second_number\n",
        "\n",
        "# display 'first_number + second_number = result'\n",
        "print(str(first_number) + ' + ' + str(second_number) + ' = ' + str(result))"
      ],
      "metadata": {
        "colab": {
          "base_uri": "https://localhost:8080/"
        },
        "id": "NCSdg9Ec9I4O",
        "outputId": "8b739d37-46d4-4eb4-d275-de66ba0f731b"
      },
      "execution_count": 18,
      "outputs": [
        {
          "output_type": "stream",
          "name": "stdout",
          "text": [
            "Please enter the first number 21.3\n",
            "Please enter the second number 2.1\n",
            "21.3 + 2.1 = 23.400000000000002\n"
          ]
        }
      ]
    },
    {
      "cell_type": "markdown",
      "source": [
        "That works, but can improve the output?\n",
        "\n",
        "First, clear the outputs and commit this notebook."
      ],
      "metadata": {
        "id": "1eBtSr76-DLB"
      }
    },
    {
      "cell_type": "code",
      "source": [
        ""
      ],
      "metadata": {
        "id": "pXAOMxHK99f_"
      },
      "execution_count": null,
      "outputs": []
    }
  ]
}