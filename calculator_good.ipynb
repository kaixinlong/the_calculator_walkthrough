{
  "nbformat": 4,
  "nbformat_minor": 0,
  "metadata": {
    "colab": {
      "name": "calculator_good.ipynb",
      "provenance": [],
      "authorship_tag": "ABX9TyN1vkbvFVvujeLdfYjh4DSu",
      "include_colab_link": true
    },
    "kernelspec": {
      "name": "python3",
      "display_name": "Python 3"
    },
    "language_info": {
      "name": "python"
    }
  },
  "cells": [
    {
      "cell_type": "markdown",
      "metadata": {
        "id": "view-in-github",
        "colab_type": "text"
      },
      "source": [
        "<a href=\"https://colab.research.google.com/github/michael-borck/the_calculator_walkthrough/blob/main/calculator_good.ipynb\" target=\"_parent\"><img src=\"https://colab.research.google.com/assets/colab-badge.svg\" alt=\"Open In Colab\"/></a>"
      ]
    },
    {
      "cell_type": "markdown",
      "source": [
        "# Calculator - Good Design\n",
        "\n",
        "This notebook implements the initial design from [the_calculator_walkthrough.ipynb](https://github.com/michael-borck/the_calculator_walkthrough/blob/main/calculator_walkthrough.ipynb).\n",
        "\n",
        "It makes for a good starting point. We will write a litte, test and perform frequent commits.  Through this process we will ensure that the final program will operate correctly.\n",
        "\n",
        "## What are *our* Best Practices\n",
        "\n",
        "Here are the best practices we have been applying throughout the course.\n",
        "\n",
        "1. Use a code repository (*GitHub, small frequent commits*)\n",
        "2. Follow style guidelines (*PEP8*)\n",
        "3. Correct broken code immediately (*exception handling, input validation, testing*)\n",
        "4. Use the PyPI instead of doing it yourself (*search and import module*)\n",
        "5. Use the Right Data Types and Structures (*int, float, list, etc. *)\n",
        "6. Write Readable Code (*meaningful names and comments*)\n",
        "7. Create readable documentation (*Docstrings*)\n",
        "8. Use Virtual Environments (*Google VM instance, Binder*)\n",
        "9. Avoid anti-patterns (*be specific imports, exceptions etc. *)\n",
        "10. Follow *Zen of Python* (try *import this*)\n",
        "\n",
        "## The Challenge - Simple Calculator\n",
        "\n",
        "Write a program to prompt the user to select a mathematical operation and input two numbers. The program will then operate on the two numbers and output the result. The user will be able to continue performing operations on numbers or exit the program. The arithmetic operations include: \n",
        "* addition, \n",
        "* subtraction, \n",
        "* multiplication, and \n",
        "* division. \n",
        "\n",
        "## How to use this notebook\n",
        "\n",
        "You should copy the notebook, delete all the cells except for *The Design* and then attempt to implement the design follow the best practices lsted above."
      ],
      "metadata": {
        "id": "S9VStu5RRdm3"
      }
    },
    {
      "cell_type": "markdown",
      "source": [
        "# The Design\n",
        "\n",
        "    Display\n",
        "      What operation you would like to complete:\n",
        "      + for addition\n",
        "      - for subtraction\n",
        "      * for multiplication\n",
        "      / for division\n",
        "    Get answer from user and store in operation\n",
        "\n",
        "    Prompt the user for a number and store it in first_number\n",
        "    Prompt the user for a number and store it in second_number\n",
        "    \n",
        "    if operation equals '+'\n",
        "      then add first_number and second_number\n",
        "    else if operation equals '-'\n",
        "      then subtract first_number from second_number\n",
        "    else if operation equals '*'\n",
        "      then multiply first_number and second_number\n",
        "    else if operation equals '/'\n",
        "      then divide first_number by the second_number\n",
        "\n",
        "# Conversion to Python\n",
        "\n",
        "Where do you start with converting the design? The answer is anywhere. A good strategy is to implement something you understand. It doesn't matter if it is a small part; start and build on that. \n",
        "\n",
        "We will test the code as we implement it. Sometimes, there may be parts of the design you need but haven't imlemented yet to perform a test. In these cases, we will create temporary variables with suitable values so we can test our code.\n",
        "\n",
        "We will use the design as comments. This method will also help us track what parts of the design we have completed.\n",
        "\n",
        "We will take a trial and error approach and implement snippets in different cells for development. When we are happy with the code, we will collate all the snippets into one cell. You would either generate a new notebook with the finished product or delete all the unnecessary snippets for production."
      ],
      "metadata": {
        "id": "xw1U-nFeYzE8"
      }
    },
    {
      "cell_type": "markdown",
      "source": [
        "# Step 1 - Prompt the user for a number\n",
        "We will start writing your program at the point where the human enters the numbers. Copy the following line ```Prompt the user for a number and store it in first_number```from the design and paste it into a code cell as a comment.\n",
        "\n",
        "We can do this by using Python’s built-in input() function to accept user-generated input from the keyboard. Inside of the parentheses of the input() function you can pass a string to prompt the user, and then assign the user’s input to a variable. It can be helpful to include a space at the end of your string so that there is a space between the user’s input and the prompting string:\n",
        "\n",
        "Clear all cell outputs and commit this notebook. Don't forget to include a commit message and ensure to tick the ```Include a link to Colaboratory``` checkbox."
      ],
      "metadata": {
        "id": "uSEilJ0sloBs"
      }
    },
    {
      "cell_type": "code",
      "execution_count": 1,
      "metadata": {
        "colab": {
          "base_uri": "https://localhost:8080/"
        },
        "id": "WXFZb07UQ3ZV",
        "outputId": "238050d7-5d1f-4f0c-c7f6-eb5217a4b975"
      },
      "outputs": [
        {
          "name": "stdout",
          "output_type": "stream",
          "text": [
            "Please enter your first number 23\n"
          ]
        }
      ],
      "source": [
        "# Prompt the user for a number and store it in first_number\n",
        "first_number = input('Please enter your first number ')"
      ]
    },
    {
      "cell_type": "markdown",
      "source": [
        "Well the seemd to work.  One way to check is to use the print() function to display the contents of ```first_number``"
      ],
      "metadata": {
        "id": "cHwHsfe2nyQu"
      }
    },
    {
      "cell_type": "code",
      "source": [
        "print(first_number)"
      ],
      "metadata": {
        "colab": {
          "base_uri": "https://localhost:8080/"
        },
        "id": "4PC5XYFUnsYC",
        "outputId": "bb9b76ac-05dd-46cb-f291-a1002ae44a40"
      },
      "execution_count": 2,
      "outputs": [
        {
          "output_type": "stream",
          "name": "stdout",
          "text": [
            "23\n"
          ]
        }
      ]
    },
    {
      "cell_type": "markdown",
      "source": [
        "Okay, looking good. \n",
        "\n",
        "Clear all cell outputs and save this notebook. It is essential to clear cell outputs before saving. Otherwise, this can store a lot of unnecessary changes in the GitHub repository.\n"
      ],
      "metadata": {
        "id": "aQZbMFGxoIC5"
      }
    },
    {
      "cell_type": "code",
      "source": [
        ""
      ],
      "metadata": {
        "id": "mQlybGMvoFTQ"
      },
      "execution_count": null,
      "outputs": []
    }
  ]
}