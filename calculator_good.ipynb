{
  "nbformat": 4,
  "nbformat_minor": 0,
  "metadata": {
    "colab": {
      "name": "calculator_good.ipynb",
      "provenance": [],
      "authorship_tag": "ABX9TyNV9//0AlfVKCXCFWMm4kpj",
      "include_colab_link": true
    },
    "kernelspec": {
      "name": "python3",
      "display_name": "Python 3"
    },
    "language_info": {
      "name": "python"
    }
  },
  "cells": [
    {
      "cell_type": "markdown",
      "metadata": {
        "id": "view-in-github",
        "colab_type": "text"
      },
      "source": [
        "<a href=\"https://colab.research.google.com/github/michael-borck/the_calculator_walkthrough/blob/main/calculator_good.ipynb\" target=\"_parent\"><img src=\"https://colab.research.google.com/assets/colab-badge.svg\" alt=\"Open In Colab\"/></a>"
      ]
    },
    {
      "cell_type": "markdown",
      "source": [
        "# Calculator - Good Design\n",
        "\n",
        "This notebook implements the initial design from [the_calculator_walkthrough.ipynb](https://github.com/michael-borck/the_calculator_walkthrough/blob/main/calculator_walkthrough.ipynb).\n",
        "\n",
        "It makes for a good starting point. We will write a litte, test and perform frequent commits.  Through this process we will ensure that the final program will operate correctly.\n",
        "\n",
        "## What are *our* Best Practices\n",
        "\n",
        "Here are the best practices we have been applying throughout the course.\n",
        "\n",
        "1. Use a code repository (*GitHub, small frequent commits*)\n",
        "2. Follow style guidelines (*PEP8*)\n",
        "3. Correct broken code immediately (*exception handling, input validation, testing*)\n",
        "4. Use the PyPI instead of doing it yourself (*search and import module*)\n",
        "5. Use the Right Data Types and Structures (*int, float, list, etc. *)\n",
        "6. Write Readable Code (*meaningful names and comments*)\n",
        "7. Create readable documentation (*Docstrings*)\n",
        "8. Use Virtual Environments (*Google VM instance, Binder*)\n",
        "9. Avoid anti-patterns (*be specific imports, exceptions etc. *)\n",
        "10. Follow *Zen of Python* (try *import this*)\n",
        "\n",
        "## The Challenge - Simple Calculator\n",
        "\n",
        "Write a program to prompt the user to select a mathematical operation and input two numbers. The program will then operate on the two numbers and output the result. The user will be able to continue performing operations on numbers or exit the program. The arithmetic operations include: \n",
        "* addition, \n",
        "* subtraction, \n",
        "* multiplication, and \n",
        "* division. \n",
        "\n",
        "## How to use this notebook\n",
        "\n",
        "You should copy the notebook, delete all the cells except for *The Design* and then attempt to implement the design follow the best practices lsted above."
      ],
      "metadata": {
        "id": "S9VStu5RRdm3"
      }
    },
    {
      "cell_type": "markdown",
      "source": [
        "# The Design\n",
        "\n",
        "    Display\n",
        "      What operation you would like to complete:\n",
        "      + for addition\n",
        "      - for subtraction\n",
        "      * for multiplication\n",
        "      / for division\n",
        "    Get answer from user and store in operation\n",
        "\n",
        "    Prompt the user for a number and store it in first_number\n",
        "    Prompt the user for a number and store it in second_number\n",
        "    \n",
        "    if operation equals '+'\n",
        "      then add first_number and second_number\n",
        "    else if operation equals '-'\n",
        "      then subtract first_number from second_number\n",
        "    else if operation equals '*'\n",
        "      then multiply first_number and second_number\n",
        "    else if operation equals '/'\n",
        "      then divide first_number by the second_number"
      ],
      "metadata": {
        "id": "xw1U-nFeYzE8"
      }
    },
    {
      "cell_type": "code",
      "execution_count": null,
      "metadata": {
        "id": "WXFZb07UQ3ZV"
      },
      "outputs": [],
      "source": [
        ""
      ]
    }
  ]
}