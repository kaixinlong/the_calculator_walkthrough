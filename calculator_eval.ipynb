{
  "nbformat": 4,
  "nbformat_minor": 0,
  "metadata": {
    "colab": {
      "name": "calculator_eval.ipynb",
      "provenance": [],
      "authorship_tag": "ABX9TyPsr7PXwyAZDYv44M3BB8ol",
      "include_colab_link": true
    },
    "kernelspec": {
      "name": "python3",
      "display_name": "Python 3"
    },
    "language_info": {
      "name": "python"
    }
  },
  "cells": [
    {
      "cell_type": "markdown",
      "metadata": {
        "id": "view-in-github",
        "colab_type": "text"
      },
      "source": [
        "<a href=\"https://colab.research.google.com/github/michael-borck/the_calculator_walkthrough/blob/main/calculator_eval.ipynb\" target=\"_parent\"><img src=\"https://colab.research.google.com/assets/colab-badge.svg\" alt=\"Open In Colab\"/></a>"
      ]
    },
    {
      "cell_type": "markdown",
      "source": [
        "# Simple Calculator\n",
        "\n",
        "This version of the program makes use of the Python builtin function ```eval()```.   Python's eval() allows you to evaluate arbitrary Python expressions from a string.  The plan here is use PyInputPlus to validate the inputs, then convert them back to string and evaluate the expression.\n",
        "\n",
        "The purpose of the walkthrough and good, better, best implementations was to alow you to practice, inuput (pyinputplus), output (print), sequence, selection (if-elif), repition (while or for), assignment (=) and mathmatical operations (+,-,*,/).\n",
        "\n",
        "This notebook show yet another way.  You may have discover the ```eval()``` in you searching.  Perhaps you looked at other calculator programs and saw it using ```eval()```."
      ],
      "metadata": {
        "id": "S9VStu5RRdm3"
      }
    },
    {
      "cell_type": "code",
      "source": [
        "help(eval)"
      ],
      "metadata": {
        "colab": {
          "base_uri": "https://localhost:8080/"
        },
        "id": "4Vsi3eWdbYDM",
        "outputId": "609a6362-05c9-4740-c121-4d0b812c9650"
      },
      "execution_count": 4,
      "outputs": [
        {
          "output_type": "stream",
          "name": "stdout",
          "text": [
            "Help on built-in function eval in module builtins:\n",
            "\n",
            "eval(source, globals=None, locals=None, /)\n",
            "    Evaluate the given source in the context of globals and locals.\n",
            "    \n",
            "    The source may be a string representing a Python expression\n",
            "    or a code object as returned by compile().\n",
            "    The globals must be a dictionary and locals can be any mapping,\n",
            "    defaulting to the current globals and locals.\n",
            "    If only globals is given, locals defaults to it.\n",
            "\n"
          ]
        }
      ]
    },
    {
      "cell_type": "markdown",
      "source": [
        "### Requirements\n"
      ],
      "metadata": {
        "id": "cqLv4nTZhYcx"
      }
    },
    {
      "cell_type": "code",
      "source": [
        "!pip -q install install PyInputPlus"
      ],
      "metadata": {
        "id": "KzPNXCcMhzhj"
      },
      "execution_count": null,
      "outputs": []
    },
    {
      "cell_type": "markdown",
      "source": [
        "# The Program"
      ],
      "metadata": {
        "id": "NYYsLd7Eh5QN"
      }
    },
    {
      "cell_type": "code",
      "source": [
        "import pyinputplus as pyip\n",
        "\n",
        "print(\"Welcome to Simple Calculator\")\n",
        "while True:\n",
        "\n",
        "  # Validate input\n",
        "  operator = pyip.inputMenu(['+','-','*','/'])\n",
        "  num_one = pyip.inputNum(\"Please enter the first number \")\n",
        "  num_two = pyip.inputNum(\"Please enter the second number \")\n",
        "\n",
        "  # Build the expression as a string\n",
        "  equation = \"{} {} {}\".format(num_one,operator,num_two)\n",
        "\n",
        "  # Evaluate the expressions\n",
        "  result = eval(equation)\n",
        "\n",
        "  print(equation,'=',result)\n",
        "  \n",
        "  # Want to continue\n",
        "  if pyip.inputYesNo(prompt=\"Do you want to continue? \") == 'no':\n",
        "    print(\"Thank you for using Simple Calculator\")\n",
        "    break"
      ],
      "metadata": {
        "id": "QMvGfVXgW6kx"
      },
      "execution_count": null,
      "outputs": []
    },
    {
      "cell_type": "code",
      "source": [
        ""
      ],
      "metadata": {
        "id": "jLBU-8TliDCW"
      },
      "execution_count": null,
      "outputs": []
    }
  ]
}