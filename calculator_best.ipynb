{
  "nbformat": 4,
  "nbformat_minor": 0,
  "metadata": {
    "colab": {
      "name": "calculator_best.ipynb",
      "provenance": [],
      "authorship_tag": "ABX9TyP1WD1jna8ok0CfTuGGXaGa",
      "include_colab_link": true
    },
    "kernelspec": {
      "name": "python3",
      "display_name": "Python 3"
    },
    "language_info": {
      "name": "python"
    }
  },
  "cells": [
    {
      "cell_type": "markdown",
      "metadata": {
        "id": "view-in-github",
        "colab_type": "text"
      },
      "source": [
        "<a href=\"https://colab.research.google.com/github/michael-borck/the_calculator_walkthrough/blob/main/calculator_best.ipynb\" target=\"_parent\"><img src=\"https://colab.research.google.com/assets/colab-badge.svg\" alt=\"Open In Colab\"/></a>"
      ]
    },
    {
      "cell_type": "markdown",
      "source": [
        "# Simple Calculator\n",
        "\n",
        "This notebook prompts the user to select a mathematical operation and input two numbers. The program will then operate on the two numbers and output the result. The user will be able to continue performing operations on numbers or exit the program. The arithmetic operations include: \n",
        "* addition, \n",
        "* subtraction, \n",
        "* multiplication, and \n",
        "* division. "
      ],
      "metadata": {
        "id": "row5i9RVQ4zI"
      }
    },
    {
      "cell_type": "markdown",
      "source": [
        "# Setup Requirements"
      ],
      "metadata": {
        "id": "IcuEM5BmUpGR"
      }
    },
    {
      "cell_type": "code",
      "source": [
        "import sys\n",
        "IN_COLAB = 'google.colab' in sys.modules\n",
        "if IN_COLAB:\n",
        "  # Workaround due to how Colab sets up a VM instance\n",
        "  # Copy reposiroty to VM instance this notebook is runing\n",
        "  GIT_PATH = \"https://github.com/michael-borck/the_calculator_walkthrough.git\"\n",
        "  !mkdir ./temp\n",
        "  !git clone \"{GIT_PATH}\" ./temp\n",
        "  !mv ./temp/* .\n",
        "  !rm -rf ./temp"
      ],
      "metadata": {
        "id": "VOSY8B9cSv52",
        "outputId": "fc9cc545-913c-4811-ec59-ea81c3cc1526",
        "colab": {
          "base_uri": "https://localhost:8080/"
        }
      },
      "execution_count": 1,
      "outputs": [
        {
          "output_type": "stream",
          "name": "stdout",
          "text": [
            "Cloning into './temp'...\n",
            "remote: Enumerating objects: 159, done.\u001b[K\n",
            "remote: Counting objects: 100% (159/159), done.\u001b[K\n",
            "remote: Compressing objects: 100% (155/155), done.\u001b[K\n",
            "remote: Total 159 (delta 93), reused 0 (delta 0), pack-reused 0\u001b[K\n",
            "Receiving objects: 100% (159/159), 42.04 KiB | 729.00 KiB/s, done.\n",
            "Resolving deltas: 100% (93/93), done.\n"
          ]
        }
      ]
    },
    {
      "cell_type": "code",
      "source": [
        "# Requirements\n",
        "!pip -q install pyinputplus\n",
        "%run utilities.ipynb\n",
        "%run user_interface.ipynb\n",
        "%run my_math.ipynb"
      ],
      "metadata": {
        "id": "kjxJLTKcSQHb",
        "outputId": "aca0b2e8-906f-4c92-ca00-bb6b6a8b2e5f",
        "colab": {
          "base_uri": "https://localhost:8080/"
        }
      },
      "execution_count": 2,
      "outputs": [
        {
          "output_type": "stream",
          "name": "stdout",
          "text": [
            "  Installing build dependencies ... \u001b[?25l\u001b[?25hdone\n",
            "  Getting requirements to build wheel ... \u001b[?25l\u001b[?25hdone\n",
            "    Preparing wheel metadata ... \u001b[?25l\u001b[?25hdone\n",
            "  Installing build dependencies ... \u001b[?25l\u001b[?25hdone\n",
            "  Getting requirements to build wheel ... \u001b[?25l\u001b[?25hdone\n",
            "    Preparing wheel metadata ... \u001b[?25l\u001b[?25hdone\n",
            "  Installing build dependencies ... \u001b[?25l\u001b[?25hdone\n",
            "  Getting requirements to build wheel ... \u001b[?25l\u001b[?25hdone\n",
            "    Preparing wheel metadata ... \u001b[?25l\u001b[?25hdone\n",
            "  Building wheel for pyinputplus (PEP 517) ... \u001b[?25l\u001b[?25hdone\n",
            "  Building wheel for pysimplevalidate (PEP 517) ... \u001b[?25l\u001b[?25hdone\n",
            "  Building wheel for stdiomask (PEP 517) ... \u001b[?25l\u001b[?25hdone\n"
          ]
        }
      ]
    },
    {
      "cell_type": "markdown",
      "source": [
        "# Main Program"
      ],
      "metadata": {
        "id": "yxVV9UCFUuOu"
      }
    },
    {
      "cell_type": "code",
      "execution_count": 3,
      "metadata": {
        "id": "76PuZ-aYb92L",
        "outputId": "3be5c0e8-bb86-4981-f72c-d665022da59c",
        "colab": {
          "base_uri": "https://localhost:8080/"
        }
      },
      "outputs": [
        {
          "output_type": "stream",
          "name": "stdout",
          "text": [
            "Welcome to Simple Calculator\n",
            "What operation you would like to complete? \n",
            "* +\n",
            "* -\n",
            "* *\n",
            "* /\n",
            "+\n",
            "Please enter the first number 21\n",
            "Please enter the second number 21\n",
            "21 + 21 = 42\n",
            "Do you want to continue? n\n",
            "Thank you for using Simple Calculator\n"
          ]
        }
      ],
      "source": [
        "# Module Main Program\n",
        "import pyinputplus as pyip\n",
        "\n",
        "print(\"Welcome to Simple Calculator\")\n",
        "while True:\n",
        "  operation = display_menu()\n",
        "  first_number = pyip.inputNum(\"Please enter the first number \")\n",
        "  second_number = pyip.inputNum(\"Please enter the second number \")\n",
        "  result = do_math(operation, first_number, second_number)\n",
        "  print('{} {} {} = {}'.format(first_number, operation, second_number, result))\n",
        "  if ask_to_continue() == 'no':\n",
        "    print(\"Thank you for using Simple Calculator\")\n",
        "    break"
      ]
    }
  ]
}